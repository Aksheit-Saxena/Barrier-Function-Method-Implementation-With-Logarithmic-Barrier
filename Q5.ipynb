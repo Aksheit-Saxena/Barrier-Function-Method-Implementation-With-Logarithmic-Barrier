{
  "nbformat": 4,
  "nbformat_minor": 0,
  "metadata": {
    "colab": {
      "provenance": []
    },
    "kernelspec": {
      "name": "python3",
      "display_name": "Python 3"
    },
    "language_info": {
      "name": "python"
    }
  },
  "cells": [
    {
      "cell_type": "code",
      "execution_count": 1,
      "metadata": {
        "colab": {
          "base_uri": "https://localhost:8080/"
        },
        "id": "fAFhj5IwhPCl",
        "outputId": "10e09401-52da-4a20-ef2f-a3adebd32505"
      },
      "outputs": [
        {
          "output_type": "stream",
          "name": "stdout",
          "text": [
            "Iteration number 1 \n",
            "X value is [0.37 0.59] \n",
            "f(x) value  16.4893\n",
            "Iteration number 2 \n",
            "X value is [0.71027273 0.94642424] \n",
            "f(x) value  12.048090006427914\n",
            "Iteration number 3 \n",
            "X value is [1.01324114 1.15918644] \n",
            "f(x) value  9.385344042646507\n",
            "Iteration number 4 \n",
            "X value is [1.13917347 1.21954728] \n",
            "f(x) value  8.49894331760725\n",
            "Iteration number 5 \n",
            "X value is [1.24088478 1.26186115] \n",
            "f(x) value  7.83955725394653\n",
            "Iteration number 6 \n",
            "X value is [0.57158245 1.04040289] \n",
            "f(x) value  12.598964880112085\n",
            "Iteration number 7 \n",
            "X value is [0.7382305  1.13073137] \n",
            "f(x) value  11.184577548949989\n",
            "Iteration number 8 \n",
            "X value is [0.89565288 1.2026964 ] \n",
            "f(x) value  9.990528801572957\n",
            "Iteration number 9 \n",
            "X value is [1.04336506 1.25965539] \n",
            "f(x) value  8.972752311229478\n",
            "Iteration number 10 \n",
            "X value is [1.17890675 1.30362763] \n",
            "f(x) value  8.112815574147353\n"
          ]
        }
      ],
      "source": [
        "import numpy as np\n",
        "\n",
        "def f(x):\n",
        "    x1, x2 = x\n",
        "    return (x1-4)**2 + (2*x2-3)**2\n",
        "def grad(x):\n",
        "    x1, x2 = x\n",
        "    return np.array([2*(x1-4), 4*(2*x2-3)])\n",
        "def hessian(x):\n",
        "    return np.array([[2, 0], [0, 8]])\n",
        "\n",
        "def barrier_fun(x, k):\n",
        "    \n",
        "    x1, x2 = x\n",
        "    return (x1-4)**2 + (2*x2-3)**2 - (1/(k+1)) * np.log(5-3*x1-x2)\n",
        "\n",
        "def barrier_grad(x, k):\n",
        "     \n",
        "    grad = np.zeros(2)\n",
        "    grad[0] = (2*(x[0]-4)+(3/((k+1)*(5-3*x[0]-x[1]))))\n",
        "    grad[1] = (4*(2*x[1]-3)+(1/((k+1)*(5-3*x[0]-x[1]))))\n",
        "    return grad\n",
        "\n",
        "def feasibility(x):\n",
        "    x1, x2 = x\n",
        "    return 5 - 3*x1 -x2\n",
        "\n",
        "def barrier(f, grad, hessian, x0, max_iter=10):\n",
        "    alpha = 0.05\n",
        "    k = 0\n",
        "    current = np.zeros(2)\n",
        "    xs = [current]\n",
        "    convergence_thresh = 0.012\n",
        "    iter = 0\n",
        "    norm_diff = 1\n",
        "\n",
        "    while norm_diff > convergence_thresh and iter < max_iter:\n",
        "        prev_x = current \n",
        "        current = prev_x - alpha * barrier_grad(prev_x,k) \n",
        "        if feasibility(current) < 0:\n",
        "            alpha = alpha/2\n",
        "            current = prev_x - alpha * barrier_grad(prev_x,k)\n",
        "        k += 1\n",
        "        norm_diff = np.linalg.norm(prev_x-current)\n",
        "        xs.append(current)\n",
        "        iter = iter + 1 \n",
        "        print(\"Iteration number\",iter,\"\\nX value is\",current, \"\\nf(x) value \", f(current)) \n",
        "    xs = np.array(xs)\n",
        "\n",
        "x_list = barrier(f, grad, hessian, np.array([0,0]), max_iter=10) "
      ]
    },
    {
      "cell_type": "code",
      "source": [],
      "metadata": {
        "id": "_cSLjtMehPyH"
      },
      "execution_count": null,
      "outputs": []
    }
  ]
}